{
  "nbformat": 4,
  "nbformat_minor": 0,
  "metadata": {
    "colab": {
      "provenance": [],
      "machine_shape": "hm",
      "gpuType": "V28"
    },
    "kernelspec": {
      "name": "python3",
      "display_name": "Python 3"
    },
    "language_info": {
      "name": "python"
    },
    "accelerator": "TPU"
  },
  "cells": [
    {
      "cell_type": "code",
      "execution_count": 7,
      "metadata": {
        "id": "1VRj4Trb8WHC"
      },
      "outputs": [],
      "source": [
        "import numpy as np\n",
        "import scipy.io.wavfile as wavfile\n",
        "import urllib.request\n",
        "import tarfile\n",
        "import os\n",
        "from scipy.fft import fft\n",
        "from sklearn import svm\n",
        "from sklearn.model_selection import train_test_split\n",
        "from sklearn.metrics import accuracy_score\n",
        "from sklearn.decomposition import PCA\n",
        "from sklearn.preprocessing import LabelEncoder\n",
        "import tensorflow as tf\n",
        "from tensorflow.keras.models import Model, Sequential\n",
        "from tensorflow.keras.layers import Input, Conv1D, MaxPooling1D, Flatten, Dense, LSTM, Bidirectional, Concatenate, Reshape, Dropout, BatchNormalization\n",
        "from tensorflow.keras.utils import to_categorical\n",
        "from tensorflow.keras.callbacks import EarlyStopping\n",
        "from tensorflow.keras.preprocessing.sequence import pad_sequences\n",
        "from joblib import Parallel, delayed\n",
        "import zipfile"
      ]
    },
    {
      "cell_type": "code",
      "source": [
        "# Step 1: Download and extract the dataset\n",
        "def download_and_extract_dataset(url, extract_path='.'):\n",
        "    file_name = url.split('/')[-1]\n",
        "    urllib.request.urlretrieve(url, file_name)\n",
        "\n",
        "    if file_name.endswith('.zip'):\n",
        "        with zipfile.ZipFile(file_name, 'r') as zip_ref:\n",
        "            zip_ref.extractall(extract_path)\n",
        "    elif file_name.endswith('.tar.gz'):\n",
        "        with tarfile.open(file_name, \"r:gz\") as tar:\n",
        "            tar.extractall(path=extract_path)\n",
        "    else:\n",
        "        raise ValueError(\"Unsupported file format. Please provide a .zip or .tar.gz file.\")\n",
        "\n",
        "    print(f'Dataset downloaded and extracted to {extract_path}')\n",
        "\n",
        "# Step 2: Load dataset RIR data\n",
        "def load_rir_data(base_path='./RIRS_NOISES/', downsample_factor=2):\n",
        "    data = []\n",
        "    labels = []\n",
        "    max_length = 0\n",
        "\n",
        "    for subdir in ['real_rirs_isotropic_noises', 'simulated_rirs']:\n",
        "        subdir_path = os.path.join(base_path, subdir)\n",
        "        if os.path.isdir(subdir_path):\n",
        "            for file_name in os.listdir(subdir_path):\n",
        "                if file_name.endswith('.wav'):\n",
        "                    file_path = os.path.join(subdir_path, file_name)\n",
        "                    rate, signal = wavfile.read(file_path)\n",
        "                    signal = signal[::downsample_factor]  # downsample the signal for speed\n",
        "\n",
        "                    # Handle stereo signals\n",
        "                    if signal.ndim > 1:\n",
        "                        signal = np.mean(signal, axis=1)\n",
        "                    max_length = max(max_length, len(signal))\n",
        "                    data.append(signal)\n",
        "                    # Extract the labels from the filenames or\n",
        "                    if subdir == 'real_rirs_isotropic_noises':\n",
        "                        label = file_name.split('_')[0]  # Extract noise types from the filename\n",
        "                    else:\n",
        "                        label = subdir_path.split('/')[-1]  # Extract room size from subdirectory name\n",
        "\n",
        "                    labels.append(label)\n",
        "    data = pad_sequences(data, maxlen=max_length, padding='post')\n",
        "    return np.array(data), np.array(labels)\n",
        "\n",
        "# Step 3: Extract Fourier transforms as features\n",
        "def extract_fourier_features(X):\n",
        "    def fft_transform(signal):\n",
        "        return np.abs(fft(signal))\n",
        "\n",
        "    n_jobs = -1  # Use all available CPU cores\n",
        "    X_fourier = Parallel(n_jobs=n_jobs)(delayed(fft_transform)(signal) for signal in X)\n",
        "    return np.array(X_fourier)\n",
        "\n",
        "# Step 4: Apply PCA for dimensionality reduction\n",
        "def apply_pca(X_train, X_test, n_components=100):\n",
        "    pca = PCA(n_components=n_components)\n",
        "    X_train_pca = pca.fit_transform(X_train)\n",
        "    X_test_pca = pca.transform(X_test)\n",
        "    return X_train_pca, X_test_pca\n",
        "\n",
        "# Step 5: Data Augmentation\n",
        "def augment_data(X, y):\n",
        "    noise_factor = 0.05\n",
        "    X_augmented = X + noise_factor * np.random.randn(*X.shape)\n",
        "    y_augmented = y\n",
        "    return np.concatenate([X, X_augmented]), np.concatenate([y, y_augmented])\n",
        "\n",
        "# Step 6: Create Encoders\n",
        "def create_encoders(input_shape):\n",
        "    inputs = Input(shape=input_shape)\n",
        "\n",
        "    # encode content\n",
        "    x = Conv1D(128, kernel_size=3, activation='relu', padding='same')(inputs)\n",
        "    x = BatchNormalization()(x)\n",
        "    x = MaxPooling1D(pool_size=2)(x)\n",
        "    x = Conv1D(256, kernel_size=3, activation='relu', padding='same')(x)\n",
        "    x = BatchNormalization()(x)\n",
        "    x = MaxPooling1D(pool_size=2)(x)\n",
        "    content_encoder_output = Flatten()(x)\n",
        "\n",
        "    # Rhythm\n",
        "    y = Conv1D(64, kernel_size=3, activation='relu', padding='same')(inputs)\n",
        "    y = BatchNormalization()(y)\n",
        "    y = MaxPooling1D(pool_size=2)(y)\n",
        "    rhythm_encoder_output = Flatten()(y)\n",
        "\n",
        "    # Pitch\n",
        "    z = Conv1D(64, kernel_size=3, activation='relu', padding='same')(inputs)\n",
        "    z = BatchNormalization()(z)\n",
        "    z = MaxPooling1D(pool_size=2)(z)\n",
        "    z = Bidirectional(LSTM(32))(z)\n",
        "    pitch_encoder_output = Flatten()(z)\n",
        "\n",
        "    return Model(inputs, [content_encoder_output, rhythm_encoder_output, pitch_encoder_output])\n",
        "\n",
        "# Step 7: Create CNN Decoder\n",
        "def create_cnn_decoder(content_shape, rhythm_shape, pitch_shape, num_classes):\n",
        "    content_input = Input(shape=content_shape)\n",
        "    rhythm_input = Input(shape=rhythm_shape)\n",
        "    pitch_input = Input(shape=pitch_shape)\n",
        "\n",
        "    # concatenate inputs\n",
        "    merged = Concatenate()([content_input, rhythm_input, pitch_input])\n",
        "\n",
        "    # Calculate the correct reshape dimensions using the feature dimension\n",
        "    feature_dim_content = content_shape[0]\n",
        "    feature_dim_rhythm = rhythm_shape[0]\n",
        "    feature_dim_pitch = pitch_shape[0]\n",
        "\n",
        "    reshape_dim1 = feature_dim_content + feature_dim_rhythm + feature_dim_pitch  # Total flattened dimension\n",
        "\n",
        "    print(f\"Feature dimension content: {feature_dim_content}, rhythm: {feature_dim_rhythm}, pitch: {feature_dim_pitch}\")\n",
        "    print(f\"Total reshape dimension: {reshape_dim1}\")\n",
        "\n",
        "    # Reshape to (batch_size, reshaped_dim, 1) for Conv1D\n",
        "    x = Reshape((reshape_dim1, 1))(merged)  # Reshape to include the channel dimension\n",
        "\n",
        "    print(f\"Shape after reshape: {x.shape}\")\n",
        "\n",
        "    #  Conv1D layers\n",
        "    x = Conv1D(64, kernel_size=3, activation='relu')(x)\n",
        "    x = BatchNormalization()(x)\n",
        "    x = MaxPooling1D(pool_size=2)(x)\n",
        "    x = Conv1D(128, kernel_size=3, activation='relu')(x)\n",
        "    x = BatchNormalization()(x)\n",
        "    x = MaxPooling1D(pool_size=2)(x)\n",
        "\n",
        "    # Ensure correct flattening dimension\n",
        "    x = Flatten()(x)\n",
        "    x = Dense(256, activation='relu')(x)\n",
        "    x = Dropout(0.5)(x)\n",
        "    outputs = Dense(num_classes, activation='softmax')(x)\n",
        "\n",
        "    return Model([content_input, rhythm_input, pitch_input], outputs)\n",
        "\n",
        "# Step 8: SVM Kernel System\n",
        "def svm_kernel_system(X_train, y_train, X_test, y_test):\n",
        "    classifier = svm.SVC(kernel='rbf', gamma='scale')\n",
        "    classifier.fit(X_train, y_train)\n",
        "    y_pred = classifier.predict(X_test)\n",
        "    accuracy = accuracy_score(y_test, y_pred)\n",
        "    return classifier, accuracy\n"
      ],
      "metadata": {
        "id": "mm1xQ90c8htT"
      },
      "execution_count": 64,
      "outputs": []
    },
    {
      "cell_type": "code",
      "source": [],
      "metadata": {
        "id": "joswe8lK_ROG"
      },
      "execution_count": 67,
      "outputs": []
    },
    {
      "cell_type": "code",
      "source": [
        "# Download dataset\n",
        "url = 'http://www.openslr.org/resources/28/rirs_noises.zip'\n",
        "download_and_extract_dataset(url)"
      ],
      "metadata": {
        "colab": {
          "base_uri": "https://localhost:8080/"
        },
        "id": "3zZ0HBGWC581",
        "outputId": "c5554d03-6909-452b-ff1b-1e5bde2afc07"
      },
      "execution_count": 3,
      "outputs": [
        {
          "output_type": "stream",
          "name": "stdout",
          "text": [
            "Dataset downloaded and extracted to .\n"
          ]
        }
      ]
    },
    {
      "cell_type": "code",
      "source": [
        "# Load dataset\n",
        "X, y = load_rir_data()\n",
        "\n",
        "label_encoder = LabelEncoder()\n",
        "y_encoded = label_encoder.fit_transform(y)\n",
        "\n",
        "# Extract Fourier features\n",
        "X_fourier = extract_fourier_features(X)\n",
        "X_fourier = (X_fourier - np.mean(X_fourier, axis=0)) / np.std(X_fourier, axis=0)\n",
        "\n",
        "X_train, X_test, y_train, y_test = train_test_split(X_fourier, y_encoded, test_size=0.2, random_state=42)\n",
        "X_train_pca, X_test_pca = apply_pca(X_train, X_test, n_components=100)\n",
        "X_train_pca, y_train = augment_data(X_train_pca, y_train)\n",
        "\n",
        "svm_classifier, svm_accuracy = svm_kernel_system(X_train_pca, y_train, X_test_pca, y_test)\n",
        "print(f'SVM Accuracy: {svm_accuracy}')\n",
        "\n",
        "input_shape = (X_train_pca.shape[1], 1)\n",
        "X_train_pca = X_train_pca.reshape((X_train_pca.shape[0], X_train_pca.shape[1], 1))\n",
        "X_test_pca = X_test_pca.reshape((X_test_pca.shape[0], X_test_pca.shape[1], 1))\n",
        "\n",
        "print(\"X_train_pca shape:\", X_train_pca.shape)\n",
        "print(\"X_test_pca shape:\", X_test_pca.shape)\n",
        "\n",
        "encoders = create_encoders(input_shape)\n",
        "content_train, rhythm_train, pitch_train = encoders.predict(X_train_pca)\n",
        "content_test, rhythm_test, pitch_test = encoders.predict(X_test_pca)\n",
        "\n",
        "num_classes = len(label_encoder.classes_)\n",
        "\n",
        "# Create and train CNN decoder\n",
        "early_stopping = EarlyStopping(monitor='val_loss', patience=3)\n",
        "\n",
        "# Update input shapes based on encoder outputs\n",
        "cnn_decoder = create_cnn_decoder(\n",
        "    content_shape=(content_train.shape[1],),\n",
        "    rhythm_shape=(rhythm_train.shape[1],),\n",
        "    pitch_shape=(pitch_train.shape[1],),\n",
        "    num_classes=num_classes\n",
        ")\n",
        "\n",
        "# Compile the CNN decoder prior to fitting\n",
        "cnn_decoder.compile(optimizer='adam', loss='categorical_crossentropy', metrics=['accuracy'])\n",
        "\n",
        "y_train_categorical = to_categorical(y_train, num_classes=num_classes)\n",
        "y_test_categorical = to_categorical(y_test, num_classes=num_classes)\n",
        "\n",
        "cnn_decoder.fit(\n",
        "    [content_train, rhythm_train, pitch_train],\n",
        "    y_train_categorical,\n",
        "    epochs=10,\n",
        "    batch_size=32,\n",
        "    validation_data=([content_test, rhythm_test, pitch_test], y_test_categorical),\n",
        "    callbacks=[early_stopping]\n",
        ")\n",
        "\n",
        "# Evaluate CNN\n",
        "cnn_loss, cnn_accuracy = cnn_decoder.evaluate([content_test, rhythm_test, pitch_test], y_test_categorical)\n",
        "print(f'CNN Accuracy: {cnn_accuracy}')\n"
      ],
      "metadata": {
        "colab": {
          "base_uri": "https://localhost:8080/"
        },
        "id": "CtF0JZFy52Z6",
        "outputId": "32adb6de-7f63-446b-c601-3b6b712d4cad"
      },
      "execution_count": 61,
      "outputs": [
        {
          "output_type": "stream",
          "name": "stderr",
          "text": [
            "/usr/local/lib/python3.10/dist-packages/joblib/externals/loky/backend/fork_exec.py:38: RuntimeWarning: os.fork() was called. os.fork() is incompatible with multithreaded code, and JAX is multithreaded, so this will likely lead to a deadlock.\n",
            "  pid = os.fork()\n"
          ]
        },
        {
          "output_type": "stream",
          "name": "stdout",
          "text": [
            "SVM Accuracy: 0.9166666666666666\n",
            "X_train_pca shape: (666, 100, 1)\n",
            "X_test_pca shape: (84, 100, 1)\n",
            "21/21 [==============================] - 1s 9ms/step\n",
            "3/3 [==============================] - 0s 9ms/step\n",
            "Feature dimension content: 6400, rhythm: 3200, pitch: 64\n",
            "Total reshape dimension: 9664\n",
            "Shape after reshape: (None, 9664, 1)\n",
            "Epoch 1/10\n",
            "21/21 [==============================] - 18s 741ms/step - loss: 32.2023 - accuracy: 0.7132 - val_loss: 6.7690 - val_accuracy: 0.7381\n",
            "Epoch 2/10\n",
            "21/21 [==============================] - 15s 734ms/step - loss: 7.3473 - accuracy: 0.8859 - val_loss: 11.9330 - val_accuracy: 0.6548\n",
            "Epoch 3/10\n",
            "21/21 [==============================] - 15s 729ms/step - loss: 1.4710 - accuracy: 0.9369 - val_loss: 1.6830 - val_accuracy: 0.7500\n",
            "Epoch 4/10\n",
            "21/21 [==============================] - 15s 730ms/step - loss: 1.3570 - accuracy: 0.9384 - val_loss: 2.7855 - val_accuracy: 0.7024\n",
            "Epoch 5/10\n",
            "21/21 [==============================] - 15s 734ms/step - loss: 1.2592 - accuracy: 0.9655 - val_loss: 4.1592 - val_accuracy: 0.6667\n",
            "Epoch 6/10\n",
            "21/21 [==============================] - 15s 722ms/step - loss: 0.3115 - accuracy: 0.9880 - val_loss: 5.8119 - val_accuracy: 0.6071\n",
            "3/3 [==============================] - 0s 61ms/step - loss: 5.8119 - accuracy: 0.6071\n",
            "CNN Accuracy: 0.6071428656578064\n"
          ]
        }
      ]
    },
    {
      "cell_type": "code",
      "source": [
        "# Step 9: Bringing everything together\n",
        "def combine_predictions(cnn_model, svm_model, X_cnn, X_svm):\n",
        "    # Get CNN predictions\n",
        "    cnn_preds = cnn_model.predict(X_cnn)\n",
        "    cnn_preds_classes = np.argmax(cnn_preds, axis=1)\n",
        "\n",
        "    # Get SVM predictions\n",
        "    # Reshape X_svm to 2D before prediction\n",
        "    svm_preds_classes = svm_model.predict(X_svm.reshape(X_svm.shape[0], -1))\n",
        "\n",
        "    # Combine predictions (e.g., by majority voting)\n",
        "    combined_preds = []\n",
        "    for i in range(len(cnn_preds_classes)):\n",
        "        combined_pred = np.bincount([cnn_preds_classes[i], svm_preds_classes[i]]).argmax()\n",
        "        combined_preds.append(combined_pred)\n",
        "\n",
        "    return np.array(combined_preds)\n",
        "\n",
        "# Use combined model to predict and evaluate\n",
        "combined_predictions = combine_predictions(\n",
        "    cnn_decoder,\n",
        "    svm_classifier,\n",
        "    [content_test, rhythm_test, pitch_test],\n",
        "    X_test_pca\n",
        ")\n",
        "\n",
        "combined_accuracy = accuracy_score(y_test, combined_predictions)\n",
        "print(f'Combined Model Accuracy: {combined_accuracy}')"
      ],
      "metadata": {
        "colab": {
          "base_uri": "https://localhost:8080/"
        },
        "id": "GTT8sa2gAVTR",
        "outputId": "ea58333e-8b05-4298-c578-55e75e60ab4f"
      },
      "execution_count": 68,
      "outputs": [
        {
          "output_type": "stream",
          "name": "stdout",
          "text": [
            "3/3 [==============================] - 0s 56ms/step\n",
            "Combined Model Accuracy: 0.8452380952380952\n"
          ]
        }
      ]
    },
    {
      "cell_type": "code",
      "source": [
        "from sklearn.metrics import confusion_matrix, classification_report\n",
        "\n",
        "# Step 10: System Evaluation\n",
        "def evaluate_model_performance(y_true, y_pred, labels):\n",
        "    cm = confusion_matrix(y_true, y_pred)\n",
        "    print('Confusion Matrix:\\n', cm)\n",
        "\n",
        "    report = classification_report(y_true, y_pred, target_names=labels)\n",
        "    print('Classification Report:\\n', report)\n",
        "\n",
        "evaluate_model_performance(y_test, combined_predictions, label_encoder.classes_)\n"
      ],
      "metadata": {
        "colab": {
          "base_uri": "https://localhost:8080/"
        },
        "id": "qo5Sqbbk8uOx",
        "outputId": "a48565a0-b2fb-4630-a9b6-f58080d9a0e1"
      },
      "execution_count": 69,
      "outputs": [
        {
          "output_type": "stream",
          "name": "stdout",
          "text": [
            "Confusion Matrix:\n",
            " [[22  5  0]\n",
            " [ 0 40  0]\n",
            " [ 0  8  9]]\n",
            "Classification Report:\n",
            "               precision    recall  f1-score   support\n",
            "\n",
            "     RVB2014       1.00      0.81      0.90        27\n",
            "        RWCP       0.75      1.00      0.86        40\n",
            "         air       1.00      0.53      0.69        17\n",
            "\n",
            "    accuracy                           0.85        84\n",
            "   macro avg       0.92      0.78      0.82        84\n",
            "weighted avg       0.88      0.85      0.84        84\n",
            "\n"
          ]
        }
      ]
    },
    {
      "cell_type": "code",
      "source": [
        "import matplotlib.pyplot as plt\n",
        "import seaborn as sns\n",
        "from sklearn.metrics import confusion_matrix, classification_report\n",
        "import numpy as np\n",
        "\n",
        "y_true = y_test\n",
        "y_pred = cnn_decoder.predict([content_test, rhythm_test, pitch_test])\n",
        "y_pred_classes = np.argmax(y_pred, axis=1)\n",
        "\n",
        "cm = confusion_matrix(y_true, y_pred_classes)\n",
        "labels = label_encoder.classes_\n",
        "\n",
        "# Plot Confusion Matrix Heatmap\n",
        "plt.figure(figsize=(10, 7))\n",
        "sns.heatmap(cm, annot=True, fmt='d', cmap='RdBu', xticklabels=labels, yticklabels=labels)\n",
        "plt.xlabel('Predicted')\n",
        "plt.ylabel('True')\n",
        "plt.title('Confusion Matrix')\n",
        "plt.show()\n",
        "\n",
        "# Classification Report\n",
        "report = classification_report(y_true, y_pred_classes, target_names=labels, output_dict=True)\n",
        "\n",
        "precision = [report[label]['precision'] for label in labels]\n",
        "recall = [report[label]['recall'] for label in labels]\n",
        "f1_score = [report[label]['f1-score'] for label in labels]\n",
        "\n",
        "# Plot Precision and Recall Bar Chart\n",
        "x = np.arange(len(labels))\n",
        "\n",
        "plt.figure(figsize=(10, 7))\n",
        "width = 0.35\n",
        "\n",
        "fig, ax = plt.subplots()\n",
        "rects1 = ax.bar(x - width/2, precision, width, label='Precision')\n",
        "rects2 = ax.bar(x + width/2, recall, width, label='Recall')\n",
        "\n",
        "ax.set_xlabel('Classes')\n",
        "ax.set_ylabel('Scores')\n",
        "ax.set_title('Precision and Recall by Class')\n",
        "ax.set_xticks(x)\n",
        "ax.set_xticklabels(labels)\n",
        "ax.legend()\n",
        "\n",
        "fig.tight_layout()\n",
        "plt.show()\n",
        "\n",
        "# Plot F1-Score Bar Chart\n",
        "plt.figure(figsize=(10, 7))\n",
        "plt.bar(labels, f1_score, color='c')\n",
        "plt.xlabel('Classes')\n",
        "plt.ylabel('F1-Score')\n",
        "plt.title('F1-Score by Class')\n",
        "plt.show()\n"
      ],
      "metadata": {
        "colab": {
          "base_uri": "https://localhost:8080/",
          "height": 1000
        },
        "id": "glnKH3xhzK6a",
        "outputId": "b9540e22-f727-4a29-dae4-0c230c543c8d"
      },
      "execution_count": 72,
      "outputs": [
        {
          "output_type": "stream",
          "name": "stdout",
          "text": [
            "3/3 [==============================] - 0s 54ms/step\n"
          ]
        },
        {
          "output_type": "display_data",
          "data": {
            "text/plain": [
              "<Figure size 1000x700 with 2 Axes>"
            ],
            "image/png": "[encoded data removed]"
          },
          "metadata": {}
        },
        {
          "output_type": "display_data",
          "data": {
            "text/plain": [
              "<Figure size 1000x700 with 0 Axes>"
            ]
          },
          "metadata": {}
        },
        {
          "output_type": "display_data",
          "data": {
            "text/plain": [
              "<Figure size 640x480 with 1 Axes>"
            ],
            "image/png": "[encoded data removed]"
          },
          "metadata": {}
        },
        {
          "output_type": "display_data",
          "data": {
            "text/plain": [
              "<Figure size 1000x700 with 1 Axes>"
            ],
            "image/png": "[encoded data removed]"
          },
          "metadata": {}
        }
      ]
    },
    {
      "cell_type": "code",
      "source": [],
      "metadata": {
        "id": "-W-B4gsOBQMg"
      },
      "execution_count": 5,
      "outputs": []
    },
    {
      "cell_type": "code",
      "source": [],
      "metadata": {
        "id": "4e0loCKnmaz2"
      },
      "execution_count": null,
      "outputs": []
    }
  ]
}
